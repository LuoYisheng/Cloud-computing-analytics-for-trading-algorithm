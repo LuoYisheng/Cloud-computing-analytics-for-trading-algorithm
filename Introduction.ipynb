{
 "metadata": {
  "celltoolbar": "Raw Cell Format",
  "name": "",
  "signature": "sha256:8fe33d720e45275825bafd376a6dbb65550a8aebe7fc541eb614ca5b9122d1d2"
 },
 "nbformat": 3,
 "nbformat_minor": 0,
 "worksheets": [
  {
   "cells": [
    {
     "cell_type": "raw",
     "metadata": {
      "raw_mimetype": "text/html"
     },
     "source": [
      "<HTML>\n",
      "    <h1>Cloud-computing-analytics-for-trading-algorithm</h1>\n",
      "<p>    \n",
      "contributed by Luo Yisheng, Wang Lingyu, Wang Jiatai and Zhang Yi\n",
      "</p>\n",
      "<p>\n",
      <br>
      "Please view below tutorial for different stages in Algo Design:\n",
      <br>
      "\n",
      "<a href=\"http://www.w3schools.com/html/\">1. Data pre-treatment and portfolio selection</a><br>",
      <br>
      "<a href=\"http://www.w3schools.com/html/\">2. Algo a. Dual Moving Average</a><br>",
      "<a href=\"http://nbviewer.ipython.org/github/LuoYisheng/Cloud-computing-analytics-for-trading-algorithm/blob/master/2.%20Spread_BackTesting.ipynb\">3. Algo b. Spread Trading</a><br>",
      "</p>\n",
      "</HTML>"
     ]
    }
   ],
   "metadata": {}
  }
 ]
}
