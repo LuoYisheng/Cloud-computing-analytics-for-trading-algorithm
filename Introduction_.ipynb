{
 "metadata": {
  "celltoolbar": "Raw Cell Format",
  "name": "",
  "signature": "sha256:2c256b6b6739fa55f8abf290eb64113b7520bcf1ee643d6646e022ec37b46945"
 },
 "nbformat": 3,
 "nbformat_minor": 0,
 "worksheets": [
  {
   "cells": [
    {
     "cell_type": "raw",
     "metadata": {
      "raw_mimetype": "text/html"
     },
     "source": [
      "<HTML>\n",
      "    <h1>Cloud-computing-analytics-for-trading-algorithm</h1>\n",
      "<p>    \n",
      "contributed by Luo Yisheng, Wang Lingyu, Wang Jiatai and Zhang Yi\n",
      "</p>\n",
      "<p>\n",
      "Please view below tutorial for different stages in Algo Design:\n",
      "</p>\n",
      "<a href=\"http://nbviewer.ipython.org/github/LuoYisheng/Cloud-computing-analytics-for-trading-algorithm/blob/master/1.%20Data%20pre-treatment%20and%20portfolio%20selection.ipynb\">1. Data pre-treatment and portfolio selection</a><br>\n",
      "<a href=\"http://nbviewer.ipython.org/github/LuoYisheng/Cloud-computing-analytics-for-trading-algorithm/blob/master/2.%20Dual%20Moving%20Average.ipynb\">2. Algo a. Dual Moving Average</a><br>\n",
      "<a href=\"http://nbviewer.ipython.org/github/LuoYisheng/Cloud-computing-analytics-for-trading-algorithm/blob/master/3.%20Spread_Trading.ipynb\">3. Algo b. Spread Trading</a><br>\n",
      "\n",
      "</HTML>"
     ]
    }
   ],
   "metadata": {}
  }
 ]
}
